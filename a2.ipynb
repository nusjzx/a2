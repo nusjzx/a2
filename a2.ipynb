{
 "cells": [
  {
   "cell_type": "code",
   "execution_count": 155,
   "outputs": [],
   "source": [
    "import pandas as pd\n",
    "import numpy as np\n",
    "import matplotlib.pyplot as plt"
   ],
   "metadata": {
    "collapsed": false,
    "ExecuteTime": {
     "end_time": "2023-10-20T09:45:36.698052Z",
     "start_time": "2023-10-20T09:45:36.686022Z"
    }
   }
  },
  {
   "cell_type": "code",
   "execution_count": 156,
   "outputs": [
    {
     "name": "stdout",
     "output_type": "stream",
     "text": [
      "there are 20 unique item\n"
     ]
    }
   ],
   "source": [
    "data = pd.read_csv('data.csv')\n",
    "data = data.sort_values(['itemDescription', 'Member_number'])\n",
    "data = data[:5000]\n",
    "print(\"there are {} unique item\".format(data.itemDescription.unique().size))"
   ],
   "metadata": {
    "collapsed": false,
    "ExecuteTime": {
     "end_time": "2023-10-20T09:45:36.742659Z",
     "start_time": "2023-10-20T09:45:36.692787Z"
    }
   }
  },
  {
   "cell_type": "code",
   "execution_count": 157,
   "outputs": [
    {
     "data": {
      "text/plain": "8"
     },
     "execution_count": 157,
     "metadata": {},
     "output_type": "execute_result"
    }
   ],
   "source": [
    "transactions = [a[1]['itemDescription'].tolist() for a in list(data.groupby(['Member_number']))]\n",
    "max([len(i) for i in transactions])"
   ],
   "metadata": {
    "collapsed": false,
    "ExecuteTime": {
     "end_time": "2023-10-20T09:45:36.989085Z",
     "start_time": "2023-10-20T09:45:36.737571Z"
    }
   }
  },
  {
   "cell_type": "code",
   "execution_count": 158,
   "outputs": [],
   "source": [
    "MIN_SUPPORT=0.001\n",
    "MIN_CONFIDENCE=0.001"
   ],
   "metadata": {
    "collapsed": false,
    "ExecuteTime": {
     "end_time": "2023-10-20T09:45:36.994662Z",
     "start_time": "2023-10-20T09:45:36.987999Z"
    }
   }
  },
  {
   "cell_type": "code",
   "execution_count": 159,
   "outputs": [],
   "source": [
    "from mlxtend.preprocessing import TransactionEncoder\n",
    "from mlxtend.frequent_patterns import apriori, association_rules\n",
    "\n",
    "def Apriori(txns):\n",
    "    te = TransactionEncoder()\n",
    "    te_ary = te.fit(txns).transform(txns)\n",
    "    df = pd.DataFrame(te_ary, columns=te.columns_)\n",
    "\n",
    "    start_time = time.time()\n",
    "    freq_items = apriori(df, min_support=MIN_SUPPORT, use_colnames=True, verbose=1)\n",
    "    freq_item_time = time.time() - start_time\n",
    "    start_time = time.time()\n",
    "    rules = association_rules(freq_items, metric=\"confidence\", min_threshold=MIN_CONFIDENCE)\n",
    "    rules_time = time.time() - start_time\n",
    "    \n",
    "    print(\"Time for frequent itemset generation:\", freq_item_time)\n",
    "    print(\"Time for high-confidence rules generation:\", rules_time)\n",
    "    return freq_item_time, rules_time"
   ],
   "metadata": {
    "collapsed": false,
    "ExecuteTime": {
     "end_time": "2023-10-20T09:45:37.001978Z",
     "start_time": "2023-10-20T09:45:36.997723Z"
    }
   }
  },
  {
   "cell_type": "code",
   "execution_count": 160,
   "metadata": {
    "id": "LarwSKRuR2hN",
    "ExecuteTime": {
     "end_time": "2023-10-20T09:45:37.036172Z",
     "start_time": "2023-10-20T09:45:37.010267Z"
    }
   },
   "outputs": [],
   "source": [
    "import time\n",
    "from itertools import chain, combinations\n",
    "\n",
    "def brute_force(txns):\n",
    "    start_time = time.time()\n",
    "    \n",
    "    n = len(txns)\n",
    "    w = max([len(i) for i in txns])\n",
    "    unique_items = set(chain(*txns))\n",
    "    d = len(unique_items)\n",
    "\n",
    "    item_combinations = chain.from_iterable(combinations(unique_items, i) for i in range(d + 1))\n",
    "    \n",
    "    support_counts = {}\n",
    "    \n",
    "    for itemset in item_combinations:\n",
    "        itemset_count = sum(1 for t in txns if set(itemset).issubset(t))\n",
    "        support = itemset_count / n\n",
    "        if support >= MIN_SUPPORT:\n",
    "            support_counts[itemset] = support\n",
    "    end_time = time.time()\n",
    "    fi_time = end_time - start_time\n",
    "    \n",
    "    start_time = time.time()\n",
    "    \n",
    "    rules = []\n",
    "    for itemset, support in support_counts.items():\n",
    "        for i in range(1, len(itemset)):\n",
    "            for lhs in combinations(itemset, i):\n",
    "                lhs = set(lhs)\n",
    "                rhs = set(itemset) - lhs\n",
    "                \n",
    "                support_lhs = sum(1 for t in txns if set(lhs).issubset(t)) / n\n",
    "                support_itemset = sum(1 for t in txns if set(itemset).issubset(t)) / n\n",
    "                confidence = support_itemset / support_lhs\n",
    "                \n",
    "                if support_itemset >= MIN_SUPPORT and confidence >= MIN_CONFIDENCE:\n",
    "                    rules.append((lhs, rhs, support_itemset, confidence))\n",
    "    # End time for rule generation\n",
    "    end_time = time.time()\n",
    "    rg_time=end_time - start_time\n",
    "\n",
    "    print(\"Time taken for frequent itemset generation:\",fi_time)\n",
    "    print(\"Time taken for rule generation:\", rg_time)\n",
    "    return fi_time, rg_time, n, d, w\n"
   ]
  },
  {
   "cell_type": "code",
   "execution_count": 161,
   "metadata": {
    "ExecuteTime": {
     "end_time": "2023-10-20T09:47:20.890942Z",
     "start_time": "2023-10-20T09:45:37.081111Z"
    }
   },
   "outputs": [
    {
     "name": "stdout",
     "output_type": "stream",
     "text": [
      "Time taken for frequent itemset generation: 22.375396013259888\n",
      "Time taken for rule generation: 0.31441569328308105\n",
      "Time taken for frequent itemset generation: 25.850740909576416\n",
      "Time taken for rule generation: 0.34311819076538086\n",
      "Time taken for frequent itemset generation: 26.884285926818848\n",
      "Time taken for rule generation: 0.35611677169799805\n",
      "Time taken for frequent itemset generation: 27.38166093826294\n",
      "Time taken for rule generation: 0.3565189838409424\n",
      "1.58675434973206e-07\n",
      "1.075115573908273e-10\n"
     ]
    }
   ],
   "source": [
    "test_data=[tx for tx in transactions if len(tx) == 4]\n",
    "for i in range(4):\n",
    "    fi_time, rg_time, n, d, w = brute_force(test_data)\n",
    "    fi_time_avg = (fi_time_avg * i + fi_time )/ (i + 1)\n",
    "    rg_time_avg = (rg_time_avg * i + fi_time )/ (i + 1)\n",
    "    \n",
    "c_fi = fi_time_avg/n/pow(2,d)/w\n",
    "c_rg = rg_time_avg/n/(pow(3,d)-pow(2,(d+1))+1)/w\n",
    "print(c_fi)\n",
    "print(c_rg)"
   ]
  },
  {
   "cell_type": "code",
   "execution_count": 162,
   "outputs": [],
   "source": [
    "def estimated_bf(transactions):\n",
    "    n = len(transactions)\n",
    "    w = max([len(i) for i in transactions])\n",
    "    unique_items = set(chain(*transactions))\n",
    "    d = len(unique_items)\n",
    "    \n",
    "    fi_time=c_fi*n*pow(2,d)*w\n",
    "    rg_time=c_rg*(pow(3,d)-pow(2,(d+1))+1)*n*w\n",
    "    \n",
    "    return fi_time,rg_time"
   ],
   "metadata": {
    "collapsed": false,
    "ExecuteTime": {
     "end_time": "2023-10-20T09:47:20.898022Z",
     "start_time": "2023-10-20T09:47:20.887748Z"
    }
   }
  },
  {
   "cell_type": "code",
   "execution_count": 163,
   "outputs": [
    {
     "name": "stdout",
     "output_type": "stream",
     "text": [
      "Dataset with 50 transactions\n",
      "Processing 50 combinations | Sampling itemset size 54\n",
      "Time for frequent itemset generation: 0.010062932968139648\n",
      "Time for high-confidence rules generation: 0.004544973373413086\n",
      "----------------------------------------------------------------------\n",
      "Dataset with 100 transactions\n",
      "Processing 110 combinations | Sampling itemset size 5\n",
      "Time for frequent itemset generation: 0.01104426383972168\n",
      "Time for high-confidence rules generation: 0.004682302474975586\n",
      "----------------------------------------------------------------------\n",
      "Dataset with 200 transactions\n",
      "Processing 18 combinations | Sampling itemset size 654\n",
      "Time for frequent itemset generation: 0.007901906967163086\n",
      "Time for high-confidence rules generation: 0.005938291549682617\n",
      "----------------------------------------------------------------------\n",
      "Dataset with 400 transactions\n",
      "Processing 48 combinations | Sampling itemset size 654\n",
      "Time for frequent itemset generation: 0.010249853134155273\n",
      "Time for high-confidence rules generation: 0.00823211669921875\n",
      "----------------------------------------------------------------------\n",
      "Dataset with 800 transactions\n",
      "Processing 144 combinations | Sampling itemset size 64\n",
      "Time for frequent itemset generation: 0.013976097106933594\n",
      "Time for high-confidence rules generation: 0.011540889739990234\n",
      "----------------------------------------------------------------------\n"
     ]
    }
   ],
   "source": [
    "dataset_index = [50, 100, 200, 400, 800]\n",
    "apriori_fi_times = []\n",
    "apriori_rg_times = []\n",
    "bf_fi_times = []\n",
    "bf_rg_times = []\n",
    "ns = []\n",
    "for size in dataset_index:\n",
    "    txns = transactions[:size]\n",
    "    n=len(txns)\n",
    "    print(f\"Dataset with {n} transactions\")\n",
    "    apriori_fi_time, apriori_rg_time= Apriori(txns)\n",
    "    bf_fi_time, bf_rg_time= estimated_bf(txns)\n",
    "    print('----------------------------------------------------------------------')\n",
    "    apriori_fi_times.append(apriori_fi_time)\n",
    "    apriori_rg_times.append(apriori_rg_time)\n",
    "    bf_fi_times.append(bf_fi_time)\n",
    "    bf_rg_times.append(bf_rg_time)\n",
    "    ns.append(n)"
   ],
   "metadata": {
    "collapsed": false,
    "ExecuteTime": {
     "end_time": "2023-10-20T09:47:21.004081Z",
     "start_time": "2023-10-20T09:47:20.903253Z"
    }
   }
  },
  {
   "cell_type": "code",
   "execution_count": 166,
   "metadata": {
    "ExecuteTime": {
     "end_time": "2023-10-20T09:52:12.903939Z",
     "start_time": "2023-10-20T09:52:12.082681Z"
    }
   },
   "outputs": [
    {
     "data": {
      "text/plain": "<Figure size 640x480 with 1 Axes>",
      "image/png": "[encoded data removed]"
     },
     "metadata": {},
     "output_type": "display_data"
    },
    {
     "data": {
      "text/plain": "<Figure size 640x480 with 1 Axes>",
      "image/png": "[encoded data removed]"
     },
     "metadata": {},
     "output_type": "display_data"
    }
   ],
   "source": [
    "#plot time on large datasets\n",
    "\n",
    "def plot(times_1, times_2, dataset_len, title ):\n",
    "  # plot the measured time and the estimated time\n",
    "  plt.scatter(dataset_len, times_1, label=\"Apriori\")\n",
    "  plt.scatter(dataset_len, times_2, label=\"Estimated brute force\")\n",
    "  plt.title(title)\n",
    "  plt.xlabel(\"Dataset Size\")\n",
    "  plt.ylabel(\"Time (seconds)\")\n",
    "  plt.legend()\n",
    "  plt.show()\n",
    "\n",
    "plot(apriori_fi_times, bf_fi_times, ns, 'frequent itemset generation time')\n",
    "plot(apriori_rg_times, bf_rg_times, ns, 'rules generation time')"
   ]
  }
 ],
 "metadata": {
  "colab": {
   "provenance": []
  },
  "kernelspec": {
   "display_name": "Python 3 (ipykernel)",
   "language": "python",
   "name": "python3"
  },
  "language_info": {
   "codemirror_mode": {
    "name": "ipython",
    "version": 3
   },
   "file_extension": ".py",
   "mimetype": "text/x-python",
   "name": "python",
   "nbconvert_exporter": "python",
   "pygments_lexer": "ipython3",
   "version": "3.9.13"
  },
  "papermill": {
   "duration": 18.486443,
   "end_time": "2020-12-07T13:46:32.190134",
   "environment_variables": {},
   "exception": null,
   "input_path": "__notebook__.ipynb",
   "output_path": "__notebook__.ipynb",
   "parameters": {},
   "start_time": "2020-12-07T13:46:13.703691",
   "version": "2.1.0"
  }
 },
 "nbformat": 4,
 "nbformat_minor": 1
}
