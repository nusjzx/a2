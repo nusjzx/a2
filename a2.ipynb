{
 "cells": [
  {
   "cell_type": "code",
   "execution_count": 1,
   "outputs": [],
   "source": [
    "import pandas as pd\n",
    "import numpy as np\n",
    "import matplotlib.pyplot as plt\n",
    "import seaborn as sns"
   ],
   "metadata": {
    "collapsed": false,
    "ExecuteTime": {
     "end_time": "2023-10-18T15:08:53.391656100Z",
     "start_time": "2023-10-18T15:08:53.384606700Z"
    }
   }
  },
  {
   "cell_type": "code",
   "execution_count": 2,
   "outputs": [],
   "source": [
    "data = pd.read_csv('data.csv')"
   ],
   "metadata": {
    "collapsed": false,
    "ExecuteTime": {
     "end_time": "2023-10-18T15:24:14.736257900Z",
     "start_time": "2023-10-18T15:24:14.706699600Z"
    }
   }
  },
  {
   "cell_type": "code",
   "execution_count": 6,
   "outputs": [
    {
     "name": "stdout",
     "output_type": "stream",
     "text": [
      "there are 167 unique item\n"
     ]
    }
   ],
   "source": [
    "print(\"there are {} unique item\".format(data.itemDescription.unique().size)) "
   ],
   "metadata": {
    "collapsed": false,
    "ExecuteTime": {
     "end_time": "2023-10-18T15:34:54.384004300Z",
     "start_time": "2023-10-18T15:34:54.359847Z"
    }
   }
  },
  {
   "cell_type": "code",
   "execution_count": 8,
   "outputs": [],
   "source": [
    "transactions = [a[1]['itemDescription'].tolist() for a in list(data.groupby(['Member_number','Date']))]"
   ],
   "metadata": {
    "collapsed": false,
    "ExecuteTime": {
     "end_time": "2023-10-18T15:40:53.567135800Z",
     "start_time": "2023-10-18T15:40:52.137838200Z"
    }
   }
  },
  {
   "cell_type": "code",
   "execution_count": 10,
   "outputs": [],
   "source": [
    "from mlxtend.preprocessing import TransactionEncoder\n",
    "te = TransactionEncoder()\n",
    "te_ary = te.fit(transactions).transform(transactions)\n",
    "df = pd.DataFrame(te_ary, columns=te.columns_)"
   ],
   "metadata": {
    "collapsed": false,
    "ExecuteTime": {
     "end_time": "2023-10-18T15:58:56.855007700Z",
     "start_time": "2023-10-18T15:58:56.423895Z"
    }
   }
  },
  {
   "cell_type": "code",
   "execution_count": 12,
   "outputs": [
    {
     "data": {
      "text/plain": "   Instant food products  UHT-milk  abrasive cleaner  artif. sweetener  \\\n0                  False     False             False             False   \n1                  False     False             False             False   \n2                  False     False             False             False   \n3                  False     False             False             False   \n4                  False     False             False             False   \n\n   baby cosmetics   bags  baking powder  bathroom cleaner   beef  berries  \\\n0           False  False          False             False  False    False   \n1           False  False          False             False  False    False   \n2           False  False          False             False  False    False   \n3           False  False          False             False  False    False   \n4           False  False          False             False  False    False   \n\n   ...  turkey  vinegar  waffles  whipped/sour cream  whisky  white bread  \\\n0  ...   False    False    False               False   False        False   \n1  ...   False    False    False               False   False        False   \n2  ...   False    False    False               False   False        False   \n3  ...   False    False    False               False   False        False   \n4  ...   False    False    False               False   False        False   \n\n   white wine  whole milk  yogurt  zwieback  \n0       False        True    True     False  \n1       False        True   False     False  \n2       False       False   False     False  \n3       False       False   False     False  \n4       False       False   False     False  \n\n[5 rows x 167 columns]",
      "text/html": "<div>\n<style scoped>\n    .dataframe tbody tr th:only-of-type {\n        vertical-align: middle;\n    }\n\n    .dataframe tbody tr th {\n        vertical-align: top;\n    }\n\n    .dataframe thead th {\n        text-align: right;\n    }\n</style>\n<table border=\"1\" class=\"dataframe\">\n  <thead>\n    <tr style=\"text-align: right;\">\n      <th></th>\n      <th>Instant food products</th>\n      <th>UHT-milk</th>\n      <th>abrasive cleaner</th>\n      <th>artif. sweetener</th>\n      <th>baby cosmetics</th>\n      <th>bags</th>\n      <th>baking powder</th>\n      <th>bathroom cleaner</th>\n      <th>beef</th>\n      <th>berries</th>\n      <th>...</th>\n      <th>turkey</th>\n      <th>vinegar</th>\n      <th>waffles</th>\n      <th>whipped/sour cream</th>\n      <th>whisky</th>\n      <th>white bread</th>\n      <th>white wine</th>\n      <th>whole milk</th>\n      <th>yogurt</th>\n      <th>zwieback</th>\n    </tr>\n  </thead>\n  <tbody>\n    <tr>\n      <th>0</th>\n      <td>False</td>\n      <td>False</td>\n      <td>False</td>\n      <td>False</td>\n      <td>False</td>\n      <td>False</td>\n      <td>False</td>\n      <td>False</td>\n      <td>False</td>\n      <td>False</td>\n      <td>...</td>\n      <td>False</td>\n      <td>False</td>\n      <td>False</td>\n      <td>False</td>\n      <td>False</td>\n      <td>False</td>\n      <td>False</td>\n      <td>True</td>\n      <td>True</td>\n      <td>False</td>\n    </tr>\n    <tr>\n      <th>1</th>\n      <td>False</td>\n      <td>False</td>\n      <td>False</td>\n      <td>False</td>\n      <td>False</td>\n      <td>False</td>\n      <td>False</td>\n      <td>False</td>\n      <td>False</td>\n      <td>False</td>\n      <td>...</td>\n      <td>False</td>\n      <td>False</td>\n      <td>False</td>\n      <td>False</td>\n      <td>False</td>\n      <td>False</td>\n      <td>False</td>\n      <td>True</td>\n      <td>False</td>\n      <td>False</td>\n    </tr>\n    <tr>\n      <th>2</th>\n      <td>False</td>\n      <td>False</td>\n      <td>False</td>\n      <td>False</td>\n      <td>False</td>\n      <td>False</td>\n      <td>False</td>\n      <td>False</td>\n      <td>False</td>\n      <td>False</td>\n      <td>...</td>\n      <td>False</td>\n      <td>False</td>\n      <td>False</td>\n      <td>False</td>\n      <td>False</td>\n      <td>False</td>\n      <td>False</td>\n      <td>False</td>\n      <td>False</td>\n      <td>False</td>\n    </tr>\n    <tr>\n      <th>3</th>\n      <td>False</td>\n      <td>False</td>\n      <td>False</td>\n      <td>False</td>\n      <td>False</td>\n      <td>False</td>\n      <td>False</td>\n      <td>False</td>\n      <td>False</td>\n      <td>False</td>\n      <td>...</td>\n      <td>False</td>\n      <td>False</td>\n      <td>False</td>\n      <td>False</td>\n      <td>False</td>\n      <td>False</td>\n      <td>False</td>\n      <td>False</td>\n      <td>False</td>\n      <td>False</td>\n    </tr>\n    <tr>\n      <th>4</th>\n      <td>False</td>\n      <td>False</td>\n      <td>False</td>\n      <td>False</td>\n      <td>False</td>\n      <td>False</td>\n      <td>False</td>\n      <td>False</td>\n      <td>False</td>\n      <td>False</td>\n      <td>...</td>\n      <td>False</td>\n      <td>False</td>\n      <td>False</td>\n      <td>False</td>\n      <td>False</td>\n      <td>False</td>\n      <td>False</td>\n      <td>False</td>\n      <td>False</td>\n      <td>False</td>\n    </tr>\n  </tbody>\n</table>\n<p>5 rows × 167 columns</p>\n</div>"
     },
     "execution_count": 12,
     "metadata": {},
     "output_type": "execute_result"
    }
   ],
   "source": [
    "df.head()"
   ],
   "metadata": {
    "collapsed": false,
    "ExecuteTime": {
     "end_time": "2023-10-18T15:59:17.129523700Z",
     "start_time": "2023-10-18T15:59:17.102929400Z"
    }
   }
  },
  {
   "cell_type": "code",
   "execution_count": 14,
   "outputs": [
    {
     "name": "stdout",
     "output_type": "stream",
     "text": [
      "Processing 28 combinations | Sampling itemset size 4e 3\n"
     ]
    },
    {
     "data": {
      "text/plain": "    support                 itemsets\n0  0.004010  (Instant food products)\n1  0.021386               (UHT-milk)\n2  0.001470       (abrasive cleaner)\n3  0.001938       (artif. sweetener)\n4  0.008087          (baking powder)\n5  0.001136       (bathroom cleaner)\n6  0.033950                   (beef)",
      "text/html": "<div>\n<style scoped>\n    .dataframe tbody tr th:only-of-type {\n        vertical-align: middle;\n    }\n\n    .dataframe tbody tr th {\n        vertical-align: top;\n    }\n\n    .dataframe thead th {\n        text-align: right;\n    }\n</style>\n<table border=\"1\" class=\"dataframe\">\n  <thead>\n    <tr style=\"text-align: right;\">\n      <th></th>\n      <th>support</th>\n      <th>itemsets</th>\n    </tr>\n  </thead>\n  <tbody>\n    <tr>\n      <th>0</th>\n      <td>0.004010</td>\n      <td>(Instant food products)</td>\n    </tr>\n    <tr>\n      <th>1</th>\n      <td>0.021386</td>\n      <td>(UHT-milk)</td>\n    </tr>\n    <tr>\n      <th>2</th>\n      <td>0.001470</td>\n      <td>(abrasive cleaner)</td>\n    </tr>\n    <tr>\n      <th>3</th>\n      <td>0.001938</td>\n      <td>(artif. sweetener)</td>\n    </tr>\n    <tr>\n      <th>4</th>\n      <td>0.008087</td>\n      <td>(baking powder)</td>\n    </tr>\n    <tr>\n      <th>5</th>\n      <td>0.001136</td>\n      <td>(bathroom cleaner)</td>\n    </tr>\n    <tr>\n      <th>6</th>\n      <td>0.033950</td>\n      <td>(beef)</td>\n    </tr>\n  </tbody>\n</table>\n</div>"
     },
     "execution_count": 14,
     "metadata": {},
     "output_type": "execute_result"
    }
   ],
   "source": [
    "from mlxtend.frequent_patterns import apriori, association_rules\n",
    "freq_items = apriori(df, min_support=0.001, use_colnames=True, verbose=1)\n",
    "freq_items.head(7)"
   ],
   "metadata": {
    "collapsed": false,
    "ExecuteTime": {
     "end_time": "2023-10-18T16:12:14.100082900Z",
     "start_time": "2023-10-18T16:12:11.878827900Z"
    }
   }
  },
  {
   "cell_type": "code",
   "execution_count": 15,
   "outputs": [
    {
     "data": {
      "text/plain": "          antecedents         consequents  antecedent support  \\\n0     (bottled water)          (UHT-milk)            0.060683   \n1          (UHT-milk)     (bottled water)            0.021386   \n2          (UHT-milk)  (other vegetables)            0.021386   \n3  (other vegetables)          (UHT-milk)            0.122101   \n4        (rolls/buns)          (UHT-milk)            0.110005   \n\n   consequent support   support  confidence      lift  leverage  conviction  \\\n0            0.021386  0.001069    0.017621  0.823954 -0.000228    0.996168   \n1            0.060683  0.001069    0.050000  0.823954 -0.000228    0.988755   \n2            0.122101  0.002139    0.100000  0.818993 -0.000473    0.975443   \n3            0.021386  0.002139    0.017515  0.818993 -0.000473    0.996060   \n4            0.021386  0.001804    0.016403  0.767013 -0.000548    0.994934   \n\n   zhangs_metric  \n0      -0.185312  \n1      -0.179204  \n2      -0.184234  \n3      -0.201119  \n4      -0.254457  ",
      "text/html": "<div>\n<style scoped>\n    .dataframe tbody tr th:only-of-type {\n        vertical-align: middle;\n    }\n\n    .dataframe tbody tr th {\n        vertical-align: top;\n    }\n\n    .dataframe thead th {\n        text-align: right;\n    }\n</style>\n<table border=\"1\" class=\"dataframe\">\n  <thead>\n    <tr style=\"text-align: right;\">\n      <th></th>\n      <th>antecedents</th>\n      <th>consequents</th>\n      <th>antecedent support</th>\n      <th>consequent support</th>\n      <th>support</th>\n      <th>confidence</th>\n      <th>lift</th>\n      <th>leverage</th>\n      <th>conviction</th>\n      <th>zhangs_metric</th>\n    </tr>\n  </thead>\n  <tbody>\n    <tr>\n      <th>0</th>\n      <td>(bottled water)</td>\n      <td>(UHT-milk)</td>\n      <td>0.060683</td>\n      <td>0.021386</td>\n      <td>0.001069</td>\n      <td>0.017621</td>\n      <td>0.823954</td>\n      <td>-0.000228</td>\n      <td>0.996168</td>\n      <td>-0.185312</td>\n    </tr>\n    <tr>\n      <th>1</th>\n      <td>(UHT-milk)</td>\n      <td>(bottled water)</td>\n      <td>0.021386</td>\n      <td>0.060683</td>\n      <td>0.001069</td>\n      <td>0.050000</td>\n      <td>0.823954</td>\n      <td>-0.000228</td>\n      <td>0.988755</td>\n      <td>-0.179204</td>\n    </tr>\n    <tr>\n      <th>2</th>\n      <td>(UHT-milk)</td>\n      <td>(other vegetables)</td>\n      <td>0.021386</td>\n      <td>0.122101</td>\n      <td>0.002139</td>\n      <td>0.100000</td>\n      <td>0.818993</td>\n      <td>-0.000473</td>\n      <td>0.975443</td>\n      <td>-0.184234</td>\n    </tr>\n    <tr>\n      <th>3</th>\n      <td>(other vegetables)</td>\n      <td>(UHT-milk)</td>\n      <td>0.122101</td>\n      <td>0.021386</td>\n      <td>0.002139</td>\n      <td>0.017515</td>\n      <td>0.818993</td>\n      <td>-0.000473</td>\n      <td>0.996060</td>\n      <td>-0.201119</td>\n    </tr>\n    <tr>\n      <th>4</th>\n      <td>(rolls/buns)</td>\n      <td>(UHT-milk)</td>\n      <td>0.110005</td>\n      <td>0.021386</td>\n      <td>0.001804</td>\n      <td>0.016403</td>\n      <td>0.767013</td>\n      <td>-0.000548</td>\n      <td>0.994934</td>\n      <td>-0.254457</td>\n    </tr>\n  </tbody>\n</table>\n</div>"
     },
     "execution_count": 15,
     "metadata": {},
     "output_type": "execute_result"
    }
   ],
   "source": [
    "rules = association_rules(freq_items, metric=\"confidence\", min_threshold=0.001)\n",
    "rules.head()"
   ],
   "metadata": {
    "collapsed": false,
    "ExecuteTime": {
     "end_time": "2023-10-18T16:12:50.185925600Z",
     "start_time": "2023-10-18T16:12:50.158409300Z"
    }
   }
  },
  {
   "cell_type": "code",
   "execution_count": 177,
   "outputs": [],
   "source": [
    "import matplotlib.pyplot as plt\n",
    "basket = pd.read_csv('bread basket.csv')\n",
    "import io\n",
    "import itertools\n",
    "from itertools import chain, combinations"
   ],
   "metadata": {
    "collapsed": false
   }
  },
  {
   "cell_type": "code",
   "execution_count": 180,
   "metadata": {
    "execution": {
     "iopub.execute_input": "2020-12-07T13:46:22.278569Z",
     "iopub.status.busy": "2020-12-07T13:46:22.269164Z",
     "iopub.status.idle": "2020-12-07T13:46:22.302411Z",
     "shell.execute_reply": "2020-12-07T13:46:22.301367Z"
    },
    "id": "4H1U4oUzKKlz",
    "papermill": {
     "duration": 0.085049,
     "end_time": "2020-12-07T13:46:22.302625",
     "exception": false,
     "start_time": "2020-12-07T13:46:22.217576",
     "status": "completed"
    },
    "tags": []
   },
   "outputs": [],
   "source": [
    "basket['Item'] = basket['Item'].str.lower()\n",
    "basket['Item'] = basket['Item'].str.strip()"
   ]
  },
  {
   "cell_type": "code",
   "execution_count": 181,
   "metadata": {
    "execution": {
     "iopub.execute_input": "2020-12-07T13:46:22.499337Z",
     "iopub.status.busy": "2020-12-07T13:46:22.498434Z",
     "iopub.status.idle": "2020-12-07T13:46:23.718642Z",
     "shell.execute_reply": "2020-12-07T13:46:23.717842Z"
    },
    "id": "zGRjyhoBKKlz",
    "papermill": {
     "duration": 1.2741,
     "end_time": "2020-12-07T13:46:23.718777",
     "exception": false,
     "start_time": "2020-12-07T13:46:22.444677",
     "status": "completed"
    },
    "tags": []
   },
   "outputs": [],
   "source": [
    "basket['Datetime'] = pd.to_datetime(basket['date_time'])"
   ]
  },
  {
   "cell_type": "code",
   "execution_count": 182,
   "metadata": {
    "execution": {
     "iopub.execute_input": "2020-12-07T13:46:23.828947Z",
     "iopub.status.busy": "2020-12-07T13:46:23.827915Z",
     "iopub.status.idle": "2020-12-07T13:46:23.845568Z",
     "shell.execute_reply": "2020-12-07T13:46:23.844797Z"
    },
    "id": "0ySqilIWKKlz",
    "papermill": {
     "duration": 0.08376,
     "end_time": "2020-12-07T13:46:23.845704",
     "exception": false,
     "start_time": "2020-12-07T13:46:23.761944",
     "status": "completed"
    },
    "tags": []
   },
   "outputs": [],
   "source": [
    "basket['date'] = basket['Datetime'].dt.date\n",
    "basket['month'] = basket['Datetime'].dt.month\n",
    "basket['day'] = basket['Datetime'].dt.weekday\n",
    "basket['hour'] = basket['Datetime'].dt.hour\n",
    "\n",
    "basket['day'] = basket['day'].replace((0,1,2,3,4,5,6), \n",
    "('Monday','Tuesday','Wednesday','Thursday','Friday','Saturday','Sunday'))"
   ]
  },
  {
   "cell_type": "code",
   "execution_count": 183,
   "metadata": {
    "execution": {
     "iopub.execute_input": "2020-12-07T13:46:23.938924Z",
     "iopub.status.busy": "2020-12-07T13:46:23.938070Z",
     "iopub.status.idle": "2020-12-07T13:46:23.952234Z",
     "shell.execute_reply": "2020-12-07T13:46:23.951415Z"
    },
    "id": "76CpXwq5KKl0",
    "papermill": {
     "duration": 0.063493,
     "end_time": "2020-12-07T13:46:23.952456",
     "exception": false,
     "start_time": "2020-12-07T13:46:23.888963",
     "status": "completed"
    },
    "tags": []
   },
   "outputs": [],
   "source": [
    "basket.drop(columns='date_time',inplace=True)"
   ]
  },
  {
   "cell_type": "code",
   "execution_count": 185,
   "metadata": {
    "colab": {
     "base_uri": "https://localhost:8080/"
    },
    "id": "-yQHDB1EPNZJ",
    "outputId": "f8bf3576-1ef5-437f-b454-6d795c8dfaad"
   },
   "outputs": [
    {
     "name": "stdout",
     "output_type": "stream",
     "text": [
      "620\n",
      "101\n",
      "201\n",
      "301\n",
      "401\n",
      "501\n"
     ]
    }
   ],
   "source": [
    "#split dataset\n",
    "# count the number of unique transactions\n",
    "n_transactions = len(set(basket['Transaction']))\n",
    "print(n_transactions)\n",
    "\n",
    "# split the transactions into 6 datasets of different sizes\n",
    "datasets = []\n",
    "for i in range(1, 6): \n",
    "    # calculate the number of transactions to include in the dataset\n",
    "    #n_transactions_subset = int(n_transactions * i / 5)\n",
    "    n_transactions_subset = int(500 * i / 5+1)\n",
    "    print(n_transactions_subset)\n",
    "    \n",
    "    # select the transactions to include in the dataset\n",
    "    selected_transactions = list(range(n_transactions_subset))\n",
    "    \n",
    "    # filter the dataset to include only the selected transactions\n",
    "    dataset = basket[basket['Transaction'].isin(selected_transactions)]\n",
    "    \n",
    "    # append the dataset to the list of datasets\n",
    "    datasets.append(dataset)\n"
   ]
  },
  {
   "cell_type": "code",
   "execution_count": 186,
   "metadata": {
    "id": "zfjzLqlUQ8aY"
   },
   "outputs": [],
   "source": [
    "def hot_encode(x): \n",
    "    if(x==0): \n",
    "        return False\n",
    "    if(x>0): \n",
    "        return True"
   ]
  },
  {
   "cell_type": "markdown",
   "metadata": {
    "id": "bH6cX25aKKl0",
    "papermill": {
     "duration": 0.057176,
     "end_time": "2020-12-07T13:46:29.856095",
     "exception": false,
     "start_time": "2020-12-07T13:46:29.798919",
     "status": "completed"
    },
    "tags": []
   },
   "source": [
    "## Apriori Algorithm"
   ]
  },
  {
   "cell_type": "code",
   "execution_count": 187,
   "metadata": {
    "execution": {
     "iopub.execute_input": "2020-12-07T13:46:29.979802Z",
     "iopub.status.busy": "2020-12-07T13:46:29.978668Z",
     "iopub.status.idle": "2020-12-07T13:46:30.074013Z",
     "shell.execute_reply": "2020-12-07T13:46:30.073393Z"
    },
    "id": "a9sY2Q_mKKl1",
    "papermill": {
     "duration": 0.160116,
     "end_time": "2020-12-07T13:46:30.074157",
     "exception": false,
     "start_time": "2020-12-07T13:46:29.914041",
     "status": "completed"
    },
    "tags": []
   },
   "outputs": [],
   "source": [
    "def Apriori(basket):\n",
    "  print('Apriori:')\n",
    "  transactions = basket.groupby(['Transaction', 'Item'])['Item'].count().reset_index(name='Number of Items')\n",
    "  table = transactions.pivot_table(index='Transaction', columns='Item', values='Number of Items', aggfunc='sum').fillna(0)\n",
    "  final_table = table.applymap(hot_encode) \n",
    "    \n",
    "  start_time = time.time()\n",
    "  frequence = apriori(final_table, min_support=0.015, use_colnames=True)\n",
    "  #print('frequent:')\n",
    "  #print(frequence)\n",
    "  frequent_itemsets_time = time.time() - start_time\n",
    "  start_time = time.time()\n",
    "  rules = association_rules(frequence, metric=\"confidence\", min_threshold=0.5)\n",
    "  high_confidence_rules_time = time.time() - start_time\n",
    "  #rules =rules.sort_values('confidence', ascending = False, inplace=True)\n",
    "  #print('rules:')\n",
    "  #print(rules)\n",
    "  \n",
    "  print(\"Time for frequent itemset generation:\", frequent_itemsets_time)\n",
    "  print(\"Time for high-confidence rules generation:\", high_confidence_rules_time)\n",
    "\n",
    "\n",
    "  return frequent_itemsets_time, high_confidence_rules_time, "
   ]
  },
  {
   "cell_type": "markdown",
   "metadata": {
    "id": "JCXeYuSdR0p1"
   },
   "source": [
    "## brute_force\n"
   ]
  },
  {
   "cell_type": "code",
   "execution_count": 188,
   "metadata": {
    "id": "LarwSKRuR2hN"
   },
   "outputs": [],
   "source": [
    "'''\n",
    "def brute_force(data):\n",
    "    print('Brute_force:')\n",
    "    # Minimum support\n",
    "    min_support = 0.015\n",
    "\n",
    "    # Confidence threshold\n",
    "    min_confidence = 0.5\n",
    " \n",
    "    # Start time for frequent itemset generation\n",
    "    start_time = time.time()\n",
    "\n",
    "    # Generate frequent itemsets using brute-force approach\n",
    "\n",
    "    # Group items by transaction\n",
    "    transactions = data.groupby(['Transaction'])['Item'].apply(set)\n",
    "    print(transactions)\n",
    "    max_length = transactions.apply(len).max()\n",
    "    print(max_length)\n",
    "    # Get unique items from dataset\n",
    "    unique_items = set(chain(*transactions))\n",
    "    print('# unique_items:')\n",
    "    print(len(unique_items))\n",
    "\n",
    "    # Get all possible subsets of unique items\n",
    "    item_combinations = chain.from_iterable(combinations(unique_items, i) for i in range(len(unique_items) + 1))\n",
    "    \n",
    "    # Dictionary to hold support counts for each itemset\n",
    "    support_counts = {}\n",
    "    \n",
    "    # Count support for each itemset in dataset\n",
    "    for itemset in item_combinations:\n",
    "        itemset_count = sum(1 for transaction in transactions if set(itemset).issubset(transaction))\n",
    "        support = itemset_count / len(transactions)\n",
    "        if support >= min_support:\n",
    "            support_counts[itemset] = support\n",
    "    # End time for frequent itemset generation\n",
    "    end_time = time.time()\n",
    "    frequent_itemsets_time = end_time - start_time\n",
    "    # Print time taken for frequent itemset generation\n",
    "    #print('frequent')\n",
    "    print('support_counts:')\n",
    "    print(len(support_counts))\n",
    "    \n",
    "    # Start time for rule generation\n",
    "    start_time = time.time()\n",
    "    \n",
    "    # Generate rules using brute-force approach\n",
    "    rules = []\n",
    "    for itemset, support in support_counts.items():\n",
    "        for i in range(1, len(itemset)):\n",
    "            for antecedent in combinations(itemset, i):\n",
    "                antecedent = set(antecedent)\n",
    "                consequent = set(itemset) - antecedent\n",
    "                \n",
    "                support_antecedent = sum(1 for t in transactions if set(antecedent).issubset(t)) / len(transactions)\n",
    "                support_itemset = sum(1 for t in transactions if set(itemset).issubset(t)) / len(transactions)\n",
    "                confidence = support_itemset / support_antecedent\n",
    "                \n",
    "                if support_itemset >= min_support and confidence >= min_confidence:\n",
    "                    rules.append((antecedent, consequent, support_itemset, confidence))\n",
    "    # End time for rule generation\n",
    "    end_time = time.time()\n",
    "    high_confidence_rules_time=end_time - start_time\n",
    "    # Print time taken for rule generation\n",
    "    #print('rules:')\n",
    "    #print(rules)\n",
    "    print(\"Time taken for frequent itemset generation:\",frequent_itemsets_time)\n",
    "    print(\"Time taken for rule generation:\", high_confidence_rules_time)\n",
    "    return frequent_itemsets_time, high_confidence_rules_time\n",
    "'''\n",
    "'''\n",
    "def brute_force(data):\n",
    "    print('Brute_force:')\n",
    "    # Minimum support\n",
    "    min_support = 0.015\n",
    "\n",
    "    # Confidence threshold\n",
    "    min_confidence = 0.5\n",
    " \n",
    "\n",
    "    # Generate frequent itemsets using brute-force approach\n",
    "\n",
    "    # Group items by transaction\n",
    "    transactions = data.groupby(['Transaction'])['Item'].apply(set)\n",
    "#     max_length = transactions.apply(len).max()\n",
    "#     print('w:')\n",
    "#     print(max_length)\n",
    "#     # Get unique items from dataset\n",
    "#     unique_items = set(chain(*transactions))\n",
    "#     print('# unique_items (d):')\n",
    "#     print(len(unique_items))\n",
    "    \n",
    "    item_counts = {}\n",
    "    rule_counts = {}\n",
    "    \n",
    "    # Start time for frequent itemset generation\n",
    "    start_time = time.time()\n",
    "\n",
    "    # Count item occurrences\n",
    "    for transaction in transactions:\n",
    "        for item in transaction:\n",
    "            item_counts[item] = item_counts.get(item, 0) + 1\n",
    "\n",
    "    # Generate all itemsets and rules\n",
    "    for i in range(1, len(item_counts)+1):\n",
    "        for itemset in combinations(item_counts.keys(), i):\n",
    "            itemset = set(itemset)\n",
    "            for j in range(1, len(itemset)):\n",
    "                for antecedent in combinations(itemset, j):\n",
    "                    antecedent = set(antecedent)\n",
    "                    consequent = itemset - antecedent\n",
    "                    if len(consequent) == 0:\n",
    "                        continue\n",
    "\n",
    "                    # Check support and confidence\n",
    "                    support = sum(1 for t in transactions if antecedent.issubset(t)) / len(transactions)\n",
    "                    if support >= min_support:\n",
    "                        confidence = sum(1 for t in transactions if antecedent.issubset(t) and consequent.issubset(t)) / sum(1 for t in transactions if antecedent.issubset(t))\n",
    "                        if confidence >= min_confidence:\n",
    "                            rule_counts[(tuple(antecedent), tuple(consequent))] = (support, confidence)\n",
    "\n",
    "\n",
    "    end_time = time.time()\n",
    "    high_confidence_rules_time_from_scratch=end_time - start_time\n",
    "    print(\"Time taken for rule generation from scratch:\", high_confidence_rules_time_from_scratch)\n",
    "    \n",
    "    print(rule_counts)\n",
    "    \n",
    "    return int(1),high_confidence_rules_time_from_scratch\n",
    "'''\n",
    "def brute_force_large_dataset(data,n):\n",
    "    print('Brute_force:')\n",
    "    # Minimum support\n",
    "    min_support = 0.015\n",
    "\n",
    "    # Confidence threshold\n",
    "    min_confidence = 0.5\n",
    " \n",
    "    # Group items by transaction\n",
    "    transactions = data.groupby(['Transaction'])['Item'].apply(set)\n",
    "    max_length = transactions.apply(len).max()\n",
    "    w=max_length\n",
    "    # Get unique items from dataset\n",
    "    unique_items = set(chain(*transactions))\n",
    "    d=len(unique_items)\n",
    "    \n",
    "    bf_times_frequent_estimated=5.6*pow(10,-8)*n*pow(2,d)*w\n",
    "    bf_times_rules_estimated=2.6*pow(10,-8)*(pow(3,d)-pow(2,(d+1))+1)*n*w\n",
    "    \n",
    "    \n",
    "    return d, w,bf_times_frequent_estimated,bf_times_rules_estimated\n",
    "    "
   ]
  },
  {
   "cell_type": "code",
   "execution_count": null,
   "metadata": {
    "colab": {
     "base_uri": "https://localhost:8080/"
    },
    "id": "k2lzaZ9jRhIG",
    "outputId": "e9e9fe77-0c89-4647-88da-a4bb29c10552"
   },
   "outputs": [],
   "source": [
    "# print the number of transactions in each dataset\n",
    "apriori_times_frequent = []\n",
    "apriori_times_rules = []\n",
    "bf_times_frequent = []\n",
    "bf_times_rules = []\n",
    "dataset_len = []\n",
    "for i, dataset in enumerate(datasets):\n",
    "    print(f\"Dataset {i+1}: {len(set(dataset['Transaction']))} transactions\")\n",
    "    length=len(set(dataset['Transaction']))\n",
    "    #apriori_frequent_itemsets_time, apriori_high_confidence_rules_time= Apriori(dataset)\n",
    "    bf_frequent_itemsets_time, bf_high_confidence_rules_time= brute_force(dataset)\n",
    "    print('----------------------------------------------------------------------')\n",
    "    apriori_times_frequent.append(apriori_frequent_itemsets_time)\n",
    "    apriori_times_rules.append(apriori_high_confidence_rules_time)\n",
    "    bf_times_frequent.append(bf_frequent_itemsets_time)\n",
    "    bf_times_rules.append(bf_high_confidence_rules_time)\n",
    "    dataset_len.append(length)"
   ]
  },
  {
   "cell_type": "code",
   "execution_count": null,
   "metadata": {
    "id": "rumxcqAbKKl2",
    "papermill": {
     "duration": 0.062249,
     "end_time": "2020-12-07T13:46:32.018125",
     "exception": false,
     "start_time": "2020-12-07T13:46:31.955876",
     "status": "completed"
    },
    "tags": []
   },
   "outputs": [],
   "source": [
    "def to_plot(times_1, times_2,times_3, dataset_len, title ):\n",
    "  # plot the measured time and the estimated time\n",
    "  plt.scatter(dataset_len, times_1, s=10,label=\"Apriori\")\n",
    "  plt.scatter(dataset_len, times_2, s=10,color='r', label=\"Brute-force\")\n",
    "  plt.scatter(dataset_len, times_3, color='black', marker='+', label=\"Brute-force (Estimated)\")\n",
    "  plt.title(title)\n",
    "  plt.xlabel(\"Dataset Size\")\n",
    "  plt.ylabel(\"Time (seconds)\")\n",
    "  plt.legend()\n",
    "  plt.show()"
   ]
  },
  {
   "cell_type": "code",
   "execution_count": 192,
   "metadata": {},
   "outputs": [],
   "source": [
    "#estimate time on small datasets\n",
    "d_list=[10,14,15,16,18]\n",
    "n_list=[10,20,30,40,50]\n",
    "w_list=[4,5,5,5,5]\n",
    "bf_times_frequent_estimated=[]\n",
    "bf_times_rules_estimated=[]\n",
    "for time, d,n,w in zip(bf_times_rules, d_list,n_list,w_list):\n",
    "    time_1=5.6*pow(10,-8)*n*pow(2,d)*w\n",
    "    bf_times_frequent_estimated.append(time_1)\n",
    "    time_2=2.6*pow(10,-8)*(pow(3,d)-pow(2,(d+1))+1)*n*w\n",
    "    bf_times_rules_estimated.append(time_2)\n",
    "\n"
   ]
  },
  {
   "cell_type": "code",
   "execution_count": 193,
   "metadata": {},
   "outputs": [
    {
     "name": "stdout",
     "output_type": "stream",
     "text": [
      "[0.05928208, 12.3505252, 55.705150800000006, 223.16138, 2514.8253130000003]\n"
     ]
    },
    {
     "data": {
      "image/png": "[encoded data removed]",
      "text/plain": [
       "<Figure size 640x480 with 1 Axes>"
      ]
     },
     "metadata": {},
     "output_type": "display_data"
    }
   ],
   "source": [
    "#plot time on small datasets\n",
    "dataset_len = [10,20,30,40,50]\n",
    "\n",
    "to_plot(apriori_times_frequent, bf_times_frequent,bf_times_frequent_estimated, dataset_len, 'Time for frequent itemset generation')\n",
    "to_plot(apriori_times_rules_from_sratch, bf_times_rules_from_scrach,bf_times_rules_estimated, dataset_len, 'Time for high-confidence rules generation')\n"
   ]
  },
  {
   "cell_type": "code",
   "execution_count": 189,
   "metadata": {},
   "outputs": [
    {
     "name": "stdout",
     "output_type": "stream",
     "text": [
      "Dataset 1: 99 transactions\n",
      "Apriori:\n",
      "Time for frequent itemset generation: 0.004704713821411133\n",
      "Time for high-confidence rules generation: 0.00251007080078125\n",
      "Brute_force:\n",
      "----------------------------------------------------------------------\n",
      "Dataset 2: 198 transactions\n",
      "Apriori:\n",
      "Time for frequent itemset generation: 0.00368499755859375\n",
      "Time for high-confidence rules generation: 0.0016510486602783203\n",
      "Brute_force:\n",
      "----------------------------------------------------------------------\n",
      "Dataset 3: 297 transactions\n",
      "Apriori:\n",
      "Time for frequent itemset generation: 0.0025148391723632812\n",
      "Time for high-confidence rules generation: 0.0012311935424804688\n",
      "Brute_force:\n",
      "----------------------------------------------------------------------\n",
      "Dataset 4: 395 transactions\n",
      "Apriori:\n",
      "Time for frequent itemset generation: 0.0018188953399658203\n",
      "Time for high-confidence rules generation: 0.0009889602661132812\n",
      "Brute_force:\n",
      "----------------------------------------------------------------------\n",
      "Dataset 5: 492 transactions\n",
      "Apriori:\n",
      "Time for frequent itemset generation: 0.0016870498657226562\n",
      "Time for high-confidence rules generation: 0.0010440349578857422\n",
      "Brute_force:\n",
      "----------------------------------------------------------------------\n",
      "[0.004704713821411133, 0.00368499755859375, 0.0025148391723632812, 0.0018188953399658203, 0.0016870498657226562]\n",
      "[0.007214784622192383, 0.00533604621887207, 0.00374603271484375, 0.0028078556060791016, 0.0027310848236083984]\n",
      "[3720.51542016, 59528.24672256, 357169.48033536, 1140056.11905024, 13253513.161211904]\n",
      "[98137984.86747684, 5299582463.887192, 71544777834.19504, 342548253487.6123, 13440061716200.84]\n",
      "[99, 198, 297, 395, 492]\n"
     ]
    }
   ],
   "source": [
    "#estimate time on large datasets\n",
    "apriori_times_frequent = []\n",
    "apriori_times_rules = []\n",
    "bf_times_frequent_estimated = []\n",
    "bf_times_rules_estimated = []\n",
    "dataset_len = []\n",
    "for i, dataset in enumerate(datasets):\n",
    "    print(f\"Dataset {i+1}: {len(set(dataset['Transaction']))} transactions\")\n",
    "    length=len(set(dataset['Transaction']))\n",
    "    apriori_frequent_itemsets_time, apriori_high_confidence_rules_time= Apriori(dataset)\n",
    "    bf_frequent_itemsets_time, bf_high_confidence_rules_time, time1, time2= brute_force_large_dataset(dataset,length)\n",
    "    print('----------------------------------------------------------------------')\n",
    "    apriori_times_frequent.append(apriori_frequent_itemsets_time)\n",
    "    apriori_times_rules.append(apriori_high_confidence_rules_time)\n",
    "    bf_times_frequent_estimated.append(time1)\n",
    "    bf_times_rules_estimated.append(time2)\n",
    "    dataset_len.append(length)\n",
    "from operator import add\n",
    "apriori_times_rules_from_sratch= list( map(add, apriori_times_frequent, apriori_times_rules) )\n",
    "\n",
    "    "
   ]
  },
  {
   "cell_type": "code",
   "execution_count": 190,
   "metadata": {},
   "outputs": [
    {
     "name": "stdout",
     "output_type": "stream",
     "text": [
      "5\n",
      "5\n",
      "5\n"
     ]
    },
    {
     "data": {
      "image/png": "[encoded data removed]",
      "text/plain": [
       "<Figure size 640x480 with 1 Axes>"
      ]
     },
     "metadata": {},
     "output_type": "display_data"
    },
    {
     "data": {
      "image/png": "[encoded data removed]",
      "text/plain": [
       "<Figure size 640x480 with 1 Axes>"
      ]
     },
     "metadata": {},
     "output_type": "display_data"
    }
   ],
   "source": [
    "#plot time on large datasets\n",
    "\n",
    "def to_plot_large_datatsets(times_1, times_3, dataset_len, title ):\n",
    "  # plot the measured time and the estimated time\n",
    "  plt.scatter(dataset_len, times_1, s=10, label=\"Apriori\")\n",
    "  plt.scatter(dataset_len, times_3, color='black', marker='+', label=\"Brute-force (Estimated)\")\n",
    "  plt.title(title)\n",
    "  plt.xlabel(\"Dataset Size\")\n",
    "  plt.ylabel(\"Time (seconds)\")\n",
    "  plt.legend()\n",
    "  plt.show()\n",
    "\n",
    "\n",
    "to_plot_large_datatsets(apriori_times_frequent, bf_times_frequent_estimated, dataset_len, 'Time for frequent itemset generation')\n",
    "to_plot_large_datatsets(apriori_times_rules, bf_times_rules_estimated, dataset_len, 'Time for high-confidence rules generation')\n"
   ]
  }
 ],
 "metadata": {
  "colab": {
   "provenance": []
  },
  "kernelspec": {
   "display_name": "Python 3 (ipykernel)",
   "language": "python",
   "name": "python3"
  },
  "language_info": {
   "codemirror_mode": {
    "name": "ipython",
    "version": 3
   },
   "file_extension": ".py",
   "mimetype": "text/x-python",
   "name": "python",
   "nbconvert_exporter": "python",
   "pygments_lexer": "ipython3",
   "version": "3.9.13"
  },
  "papermill": {
   "duration": 18.486443,
   "end_time": "2020-12-07T13:46:32.190134",
   "environment_variables": {},
   "exception": null,
   "input_path": "__notebook__.ipynb",
   "output_path": "__notebook__.ipynb",
   "parameters": {},
   "start_time": "2020-12-07T13:46:13.703691",
   "version": "2.1.0"
  }
 },
 "nbformat": 4,
 "nbformat_minor": 1
}
